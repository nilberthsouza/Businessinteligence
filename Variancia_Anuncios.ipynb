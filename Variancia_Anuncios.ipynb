{
  "nbformat": 4,
  "nbformat_minor": 0,
  "metadata": {
    "colab": {
      "name": "Variancia Anuncios.ipynb",
      "provenance": [],
      "collapsed_sections": []
    },
    "kernelspec": {
      "name": "python3",
      "display_name": "Python 3"
    }
  },
  "cells": [
    {
      "cell_type": "markdown",
      "metadata": {
        "id": "fOv5qgidzyvO",
        "colab_type": "text"
      },
      "source": [
        "#ANOVA = Analise of Variance\n",
        "\n",
        "Variância: medida de dispersão que indica o tanto que os valores se distanciaram da média. \n",
        "\n",
        "Usada para Y numérico e X categórico com mais de dois niveis"
      ]
    },
    {
      "cell_type": "code",
      "metadata": {
        "id": "5yddx2ITzwun",
        "colab_type": "code",
        "colab": {}
      },
      "source": [
        "import pandas as pd\n",
        "import matplotlib.pyplot as plt\n",
        "import seaborn as sns\n",
        "import numpy as np\n",
        "import scipy.stats as stats\n",
        "from statsmodels.stats.multicomp import pairwise_tukeyhsd\n",
        "\n"
      ],
      "execution_count": 0,
      "outputs": []
    },
    {
      "cell_type": "markdown",
      "metadata": {
        "id": "U0YWlWBL8PbH",
        "colab_type": "text"
      },
      "source": [
        "Queremos entender o impacto dos anuncios da nossa empresa em radio. Para isso criamos 4 testes A B para encontramos qual melhor programação de anuncios para trazer novos clientes para empresa. \n",
        "\n",
        "\n",
        "1.   A - Seram feitos 2 anuncios por dia( 7 dias da semana) durante o mês\n",
        "2.   B - Serão feitos 2 anuncios a cada 2 dias durante um mês\n",
        "3.   C - Serão Feitos 2 anuncios por Semana durante um mês\n",
        "2.   D - Não serão feitos nenhum anuncio durante o mês\n",
        "\n",
        "\n",
        "\n",
        "\n",
        "\n"
      ]
    },
    {
      "cell_type": "code",
      "metadata": {
        "id": "DT7J38YP5YRW",
        "colab_type": "code",
        "outputId": "4c02d35a-b1fa-4829-d6e3-8c28068485af",
        "colab": {
          "base_uri": "https://localhost:8080/",
          "height": 204
        }
      },
      "source": [
        "resultados = {'Radio':['Radio 1','Radio 2','Radio 3','Radio 4','Radio 5'],'Diaria':[110,80,50,80,80],'Alternada':[85,53,27,55,50],'Semanal':[52,73,35,39,74],'Controle':[40,42,21,10,12]}\n",
        "dft = pd.DataFrame(resultados)\n",
        "\n",
        "nls = dft.drop(['Radio'],axis=1)\n",
        "dft.drop(['Radio'],axis=1,inplace=True)\n",
        "dft.head()"
      ],
      "execution_count": 76,
      "outputs": [
        {
          "output_type": "execute_result",
          "data": {
            "text/html": [
              "<div>\n",
              "<style scoped>\n",
              "    .dataframe tbody tr th:only-of-type {\n",
              "        vertical-align: middle;\n",
              "    }\n",
              "\n",
              "    .dataframe tbody tr th {\n",
              "        vertical-align: top;\n",
              "    }\n",
              "\n",
              "    .dataframe thead th {\n",
              "        text-align: right;\n",
              "    }\n",
              "</style>\n",
              "<table border=\"1\" class=\"dataframe\">\n",
              "  <thead>\n",
              "    <tr style=\"text-align: right;\">\n",
              "      <th></th>\n",
              "      <th>Diaria</th>\n",
              "      <th>Alternada</th>\n",
              "      <th>Semanal</th>\n",
              "      <th>Controle</th>\n",
              "    </tr>\n",
              "  </thead>\n",
              "  <tbody>\n",
              "    <tr>\n",
              "      <th>0</th>\n",
              "      <td>110</td>\n",
              "      <td>85</td>\n",
              "      <td>52</td>\n",
              "      <td>40</td>\n",
              "    </tr>\n",
              "    <tr>\n",
              "      <th>1</th>\n",
              "      <td>80</td>\n",
              "      <td>53</td>\n",
              "      <td>73</td>\n",
              "      <td>42</td>\n",
              "    </tr>\n",
              "    <tr>\n",
              "      <th>2</th>\n",
              "      <td>50</td>\n",
              "      <td>27</td>\n",
              "      <td>35</td>\n",
              "      <td>21</td>\n",
              "    </tr>\n",
              "    <tr>\n",
              "      <th>3</th>\n",
              "      <td>80</td>\n",
              "      <td>55</td>\n",
              "      <td>39</td>\n",
              "      <td>10</td>\n",
              "    </tr>\n",
              "    <tr>\n",
              "      <th>4</th>\n",
              "      <td>80</td>\n",
              "      <td>50</td>\n",
              "      <td>74</td>\n",
              "      <td>12</td>\n",
              "    </tr>\n",
              "  </tbody>\n",
              "</table>\n",
              "</div>"
            ],
            "text/plain": [
              "   Diaria  Alternada  Semanal  Controle\n",
              "0     110         85       52        40\n",
              "1      80         53       73        42\n",
              "2      50         27       35        21\n",
              "3      80         55       39        10\n",
              "4      80         50       74        12"
            ]
          },
          "metadata": {
            "tags": []
          },
          "execution_count": 76
        }
      ]
    },
    {
      "cell_type": "code",
      "metadata": {
        "id": "KzkF0EMaG71S",
        "colab_type": "code",
        "colab": {}
      },
      "source": [
        "fvalue, pvalue = stats.f_oneway(dft['Diaria'], dft['Alternada'], dft['Semanal'], dft['Controle'])\n"
      ],
      "execution_count": 0,
      "outputs": []
    },
    {
      "cell_type": "code",
      "metadata": {
        "id": "4xa1nGiAGzhK",
        "colab_type": "code",
        "outputId": "b68809af-2578-4791-ba96-e6852ddff7ef",
        "colab": {
          "base_uri": "https://localhost:8080/",
          "height": 34
        }
      },
      "source": [
        "print(fvalue, pvalue)"
      ],
      "execution_count": 78,
      "outputs": [
        {
          "output_type": "stream",
          "text": [
            "6.992412186627924 0.0032162461627488897\n"
          ],
          "name": "stdout"
        }
      ]
    },
    {
      "cell_type": "markdown",
      "metadata": {
        "id": "F-YCVyzBLZaG",
        "colab_type": "text"
      },
      "source": [
        "Como o pvalue é menor que 0.05 é possivel concluir que existe sim diferença entre o numero de anuncios e o numero de clientes atendidos."
      ]
    },
    {
      "cell_type": "code",
      "metadata": {
        "id": "9Wmj44YMMuDR",
        "colab_type": "code",
        "colab": {}
      },
      "source": [
        "m_comp = pairwise_tukeyhsd(endog=dft['Diaria'], groups=dft['Alternada'], alpha=0.05)\n",
        "print(m_comp)\n",
        "\n",
        "m_comp = pairwise_tukeyhsd(endog=dft['Diaria'], groups=dft['Semanal'], alpha=0.05)\n",
        "print(m_comp)\n",
        "\n",
        "m_comp = pairwise_tukeyhsd(endog=dft['Diaria'], groups=dft['Controle'], alpha=0.05)\n",
        "print(m_comp)\n",
        "\n",
        "m_comp = pairwise_tukeyhsd(endog=dft['Alternada'], groups=dft['Diaria'], alpha=0.05)\n",
        "print(m_comp)\n",
        "\n",
        "m_comp = pairwise_tukeyhsd(endog=dft['Alternada'], groups=dft['Semanal'], alpha=0.05)\n",
        "print(m_comp)\n",
        "\n",
        "m_comp = pairwise_tukeyhsd(endog=dft['Alternada'], groups=dft['Controle'], alpha=0.05)\n",
        "print(m_comp)\n",
        "\n",
        "m_comp = pairwise_tukeyhsd(endog=dft['Semanal'], groups=dft['Diaria'], alpha=0.05)\n",
        "print(m_comp)\n",
        "\n",
        "m_comp = pairwise_tukeyhsd(endog=dft['Semanal'], groups=dft['Semanal'], alpha=0.05)\n",
        "print(m_comp)\n",
        "\n",
        "m_comp = pairwise_tukeyhsd(endog=dft['Semanal'], groups=dft['Controle'], alpha=0.05)\n",
        "print(m_comp)\n",
        "\n",
        "m_comp = pairwise_tukeyhsd(endog=dft['Controle'], groups=dft['Diaria'], alpha=0.05)\n",
        "print(m_comp)\n",
        "\n",
        "m_comp = pairwise_tukeyhsd(endog=dft['Controle'], groups=dft['Semanal'], alpha=0.05)\n",
        "print(m_comp)\n",
        "\n",
        "m_comp = pairwise_tukeyhsd(endog=dft['Controle'], groups=dft['Controle'], alpha=0.05)\n"
      ],
      "execution_count": 0,
      "outputs": []
    },
    {
      "cell_type": "code",
      "metadata": {
        "id": "FsyvWvjLHnhz",
        "colab_type": "code",
        "outputId": "9d27f276-8496-47ff-c481-a0e2025a78cd",
        "colab": {
          "base_uri": "https://localhost:8080/",
          "height": 282
        }
      },
      "source": [
        "dft.boxplot(['Diaria','Alternada','Semanal','Controle'],grid=False)"
      ],
      "execution_count": 0,
      "outputs": [
        {
          "output_type": "execute_result",
          "data": {
            "text/plain": [
              "<matplotlib.axes._subplots.AxesSubplot at 0x7f27a79b8b38>"
            ]
          },
          "metadata": {
            "tags": []
          },
          "execution_count": 70
        },
        {
          "output_type": "display_data",
          "data": {
            "image/png": "[encoded data removed]",
            "text/plain": [
              "<Figure size 432x288 with 1 Axes>"
            ]
          },
          "metadata": {
            "tags": []
          }
        }
      ]
    },
    {
      "cell_type": "markdown",
      "metadata": {
        "id": "OgcogGWqQzmp",
        "colab_type": "text"
      },
      "source": [
        "Com isso é possivel concluir - Apenas para esse caso, onde os dados foram gerados de forma aleatoria- que nesse caso em especifico não houve diferença significativa entre Diaria, Alternada e Semanal e apenas com Controle"
      ]
    },
    {
      "cell_type": "code",
      "metadata": {
        "id": "uI7kw0RlRD3V",
        "colab_type": "code",
        "colab": {}
      },
      "source": [
        ""
      ],
      "execution_count": 0,
      "outputs": []
    }
  ]
}