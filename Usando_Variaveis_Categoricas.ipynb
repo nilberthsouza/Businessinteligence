{
  "nbformat": 4,
  "nbformat_minor": 0,
  "metadata": {
    "colab": {
      "name": "Usando Variaveis Categoricas",
      "provenance": [],
      "collapsed_sections": []
    },
    "kernelspec": {
      "name": "python3",
      "display_name": "Python 3"
    },
    "accelerator": "GPU"
  },
  "cells": [
    {
      "cell_type": "markdown",
      "metadata": {
        "id": "aZsRHVgTlmvs",
        "colab_type": "text"
      },
      "source": [
        "#Tratando Variaveis Categoricas em Datasets\n",
        "\n"
      ]
    },
    {
      "cell_type": "markdown",
      "metadata": {
        "id": "Sw2Uo29WluOB",
        "colab_type": "text"
      },
      "source": [
        "First we have to import the lib resposible to encode the variables \n",
        "\n",
        "Remind delete the '#' to execute in your notebook"
      ]
    },
    {
      "cell_type": "code",
      "metadata": {
        "id": "nSPZIWUzbRFE",
        "colab_type": "code",
        "outputId": "c22be80a-fa47-4f28-e340-b807ee632f3a",
        "colab": {
          "base_uri": "https://localhost:8080/",
          "height": 292
        }
      },
      "source": [
        "#!pip install category_encoders"
      ],
      "execution_count": 2,
      "outputs": [
        {
          "output_type": "stream",
          "text": [
            "Collecting category_encoders\n",
            "\u001b[?25l  Downloading https://files.pythonhosted.org/packages/a0/52/c54191ad3782de633ea3d6ee3bb2837bda0cf3bc97644bb6375cf14150a0/category_encoders-2.1.0-py2.py3-none-any.whl (100kB)\n",
            "\r\u001b[K     |███▎                            | 10kB 19.5MB/s eta 0:00:01\r\u001b[K     |██████▌                         | 20kB 1.8MB/s eta 0:00:01\r\u001b[K     |█████████▉                      | 30kB 2.6MB/s eta 0:00:01\r\u001b[K     |█████████████                   | 40kB 3.4MB/s eta 0:00:01\r\u001b[K     |████████████████▍               | 51kB 2.2MB/s eta 0:00:01\r\u001b[K     |███████████████████▋            | 61kB 2.6MB/s eta 0:00:01\r\u001b[K     |██████████████████████▉         | 71kB 3.0MB/s eta 0:00:01\r\u001b[K     |██████████████████████████▏     | 81kB 3.4MB/s eta 0:00:01\r\u001b[K     |█████████████████████████████▍  | 92kB 3.7MB/s eta 0:00:01\r\u001b[K     |████████████████████████████████| 102kB 2.4MB/s \n",
            "\u001b[?25hRequirement already satisfied: numpy>=1.11.3 in /usr/local/lib/python3.6/dist-packages (from category_encoders) (1.17.5)\n",
            "Requirement already satisfied: scipy>=0.19.0 in /usr/local/lib/python3.6/dist-packages (from category_encoders) (1.4.1)\n",
            "Requirement already satisfied: scikit-learn>=0.20.0 in /usr/local/lib/python3.6/dist-packages (from category_encoders) (0.22.2)\n",
            "Requirement already satisfied: patsy>=0.4.1 in /usr/local/lib/python3.6/dist-packages (from category_encoders) (0.5.1)\n",
            "Requirement already satisfied: statsmodels>=0.6.1 in /usr/local/lib/python3.6/dist-packages (from category_encoders) (0.10.2)\n",
            "Requirement already satisfied: pandas>=0.21.1 in /usr/local/lib/python3.6/dist-packages (from category_encoders) (0.25.3)\n",
            "Requirement already satisfied: joblib>=0.11 in /usr/local/lib/python3.6/dist-packages (from scikit-learn>=0.20.0->category_encoders) (0.14.1)\n",
            "Requirement already satisfied: six in /usr/local/lib/python3.6/dist-packages (from patsy>=0.4.1->category_encoders) (1.12.0)\n",
            "Requirement already satisfied: python-dateutil>=2.6.1 in /usr/local/lib/python3.6/dist-packages (from pandas>=0.21.1->category_encoders) (2.6.1)\n",
            "Requirement already satisfied: pytz>=2017.2 in /usr/local/lib/python3.6/dist-packages (from pandas>=0.21.1->category_encoders) (2018.9)\n",
            "Installing collected packages: category-encoders\n",
            "Successfully installed category-encoders-2.1.0\n"
          ],
          "name": "stdout"
        }
      ]
    },
    {
      "cell_type": "markdown",
      "metadata": {
        "id": "zMmK1CJ-l_aB",
        "colab_type": "text"
      },
      "source": [
        "Certify that the scikit-learn is already install in your machine"
      ]
    },
    {
      "cell_type": "code",
      "metadata": {
        "id": "Or5J0ZVJb5ju",
        "colab_type": "code",
        "outputId": "1b0ec715-6d4c-4cf2-83f2-29a023f2692d",
        "colab": {
          "base_uri": "https://localhost:8080/",
          "height": 224
        }
      },
      "source": [
        "#!pip install -U scikit-learn\n"
      ],
      "execution_count": 1,
      "outputs": [
        {
          "output_type": "stream",
          "text": [
            "Collecting scikit-learn\n",
            "\u001b[?25l  Downloading https://files.pythonhosted.org/packages/e1/7f/366dcba1ba076a88a50bea732dbc033c0c5bbf7876010e6edc67948579d5/scikit_learn-0.22.2-cp36-cp36m-manylinux1_x86_64.whl (7.1MB)\n",
            "\u001b[K     |████████████████████████████████| 7.1MB 2.8MB/s \n",
            "\u001b[?25hRequirement already satisfied, skipping upgrade: joblib>=0.11 in /usr/local/lib/python3.6/dist-packages (from scikit-learn) (0.14.1)\n",
            "Requirement already satisfied, skipping upgrade: numpy>=1.11.0 in /usr/local/lib/python3.6/dist-packages (from scikit-learn) (1.17.5)\n",
            "Requirement already satisfied, skipping upgrade: scipy>=0.17.0 in /usr/local/lib/python3.6/dist-packages (from scikit-learn) (1.4.1)\n",
            "Installing collected packages: scikit-learn\n",
            "  Found existing installation: scikit-learn 0.22.1\n",
            "    Uninstalling scikit-learn-0.22.1:\n",
            "      Successfully uninstalled scikit-learn-0.22.1\n",
            "Successfully installed scikit-learn-0.22.2\n"
          ],
          "name": "stdout"
        }
      ]
    },
    {
      "cell_type": "markdown",
      "metadata": {
        "id": "Szhr-KLkmIS-",
        "colab_type": "text"
      },
      "source": [
        "In most of our project we need import pandas and numpy. They have so many useful function's to process the data"
      ]
    },
    {
      "cell_type": "code",
      "metadata": {
        "id": "3RcppFqwa8Gi",
        "colab_type": "code",
        "colab": {}
      },
      "source": [
        "import pandas as pd\n",
        "import numpy as np\n",
        "\n",
        "#from sklearn.enseble import RandomForestRegressor\n",
        "from category_encoders.one_hot import OneHotEncoder"
      ],
      "execution_count": 0,
      "outputs": []
    },
    {
      "cell_type": "markdown",
      "metadata": {
        "id": "NhaQeHMKmUQF",
        "colab_type": "text"
      },
      "source": [
        "Here i am creating one python dict with some categorical information. \n",
        "\n",
        "Later is needed transpose the dict to make the data best formated\n",
        "\n",
        "And for last i give the columns the names i wanted when i created the list names"
      ]
    },
    {
      "cell_type": "code",
      "metadata": {
        "id": "Cx0pYvk2cTXO",
        "colab_type": "code",
        "outputId": "838c04a8-af75-4891-ea71-f3014946685c",
        "colab": {
          "base_uri": "https://localhost:8080/",
          "height": 170
        }
      },
      "source": [
        "friends = {'nilberth': ['male', 'cis', 'bi'], 'guilherme': ['male','cis', 'bi'], 'bernardo': ['male', 'trans', 'hetero'], 'fernando':['male', 'cis', 'hetero'], 'laura': ['female', 'trans', 'hetero'],'juliana': ['female', 'cis', 'hetero'],'tulio':['male','cis','gay'],'duda':['female','cis','gay']}\n",
        "names = ['sex','gender orientation','genero']\n",
        "friends = pd.DataFrame(data=friends)\n",
        "df = friends.transpose()\n",
        "df.columns = names\n",
        "\n",
        "print(df)\n"
      ],
      "execution_count": 26,
      "outputs": [
        {
          "output_type": "stream",
          "text": [
            "              sex gender orientation  genero\n",
            "nilberth     male                cis      bi\n",
            "guilherme    male                cis      bi\n",
            "bernardo     male              trans  hetero\n",
            "fernando     male                cis  hetero\n",
            "laura      female              trans  hetero\n",
            "juliana    female                cis  hetero\n",
            "tulio        male                cis     gay\n",
            "duda       female                cis     gay\n"
          ],
          "name": "stdout"
        }
      ]
    },
    {
      "cell_type": "markdown",
      "metadata": {
        "id": "aJ5DIGbDmt7V",
        "colab_type": "text"
      },
      "source": [
        "Now we use the library to create a instace and make the magic happen"
      ]
    },
    {
      "cell_type": "code",
      "metadata": {
        "id": "WNnoZU-XeYeH",
        "colab_type": "code",
        "colab": {
          "base_uri": "https://localhost:8080/",
          "height": 85
        },
        "outputId": "dbcf2004-6bb7-46b6-defc-cd6f8ad3b388"
      },
      "source": [
        "enc = OneHotEncoder(cols=['sex','gender orientation','genero'])\n",
        "enc.fit(df)"
      ],
      "execution_count": 29,
      "outputs": [
        {
          "output_type": "execute_result",
          "data": {
            "text/plain": [
              "OneHotEncoder(cols=['sex', 'gender orientation', 'genero'],\n",
              "              drop_invariant=False, handle_missing='value',\n",
              "              handle_unknown='value', return_df=True, use_cat_names=False,\n",
              "              verbose=0)"
            ]
          },
          "metadata": {
            "tags": []
          },
          "execution_count": 29
        }
      ]
    },
    {
      "cell_type": "markdown",
      "metadata": {
        "id": "tmui4pnBm1Nx",
        "colab_type": "text"
      },
      "source": [
        "now we execute a method of the instance of our classe"
      ]
    },
    {
      "cell_type": "code",
      "metadata": {
        "id": "5_8MIdbPlV8F",
        "colab_type": "code",
        "colab": {
          "base_uri": "https://localhost:8080/",
          "height": 297
        },
        "outputId": "e8611ade-feb6-429a-8b8a-b168bc622b59"
      },
      "source": [
        "enc.transform(df)"
      ],
      "execution_count": 30,
      "outputs": [
        {
          "output_type": "execute_result",
          "data": {
            "text/html": [
              "<div>\n",
              "<style scoped>\n",
              "    .dataframe tbody tr th:only-of-type {\n",
              "        vertical-align: middle;\n",
              "    }\n",
              "\n",
              "    .dataframe tbody tr th {\n",
              "        vertical-align: top;\n",
              "    }\n",
              "\n",
              "    .dataframe thead th {\n",
              "        text-align: right;\n",
              "    }\n",
              "</style>\n",
              "<table border=\"1\" class=\"dataframe\">\n",
              "  <thead>\n",
              "    <tr style=\"text-align: right;\">\n",
              "      <th></th>\n",
              "      <th>sex_1</th>\n",
              "      <th>sex_2</th>\n",
              "      <th>gender orientation_1</th>\n",
              "      <th>gender orientation_2</th>\n",
              "      <th>genero_1</th>\n",
              "      <th>genero_2</th>\n",
              "      <th>genero_3</th>\n",
              "    </tr>\n",
              "  </thead>\n",
              "  <tbody>\n",
              "    <tr>\n",
              "      <th>nilberth</th>\n",
              "      <td>1</td>\n",
              "      <td>0</td>\n",
              "      <td>1</td>\n",
              "      <td>0</td>\n",
              "      <td>1</td>\n",
              "      <td>0</td>\n",
              "      <td>0</td>\n",
              "    </tr>\n",
              "    <tr>\n",
              "      <th>guilherme</th>\n",
              "      <td>1</td>\n",
              "      <td>0</td>\n",
              "      <td>1</td>\n",
              "      <td>0</td>\n",
              "      <td>1</td>\n",
              "      <td>0</td>\n",
              "      <td>0</td>\n",
              "    </tr>\n",
              "    <tr>\n",
              "      <th>bernardo</th>\n",
              "      <td>1</td>\n",
              "      <td>0</td>\n",
              "      <td>0</td>\n",
              "      <td>1</td>\n",
              "      <td>0</td>\n",
              "      <td>1</td>\n",
              "      <td>0</td>\n",
              "    </tr>\n",
              "    <tr>\n",
              "      <th>fernando</th>\n",
              "      <td>1</td>\n",
              "      <td>0</td>\n",
              "      <td>1</td>\n",
              "      <td>0</td>\n",
              "      <td>0</td>\n",
              "      <td>1</td>\n",
              "      <td>0</td>\n",
              "    </tr>\n",
              "    <tr>\n",
              "      <th>laura</th>\n",
              "      <td>0</td>\n",
              "      <td>1</td>\n",
              "      <td>0</td>\n",
              "      <td>1</td>\n",
              "      <td>0</td>\n",
              "      <td>1</td>\n",
              "      <td>0</td>\n",
              "    </tr>\n",
              "    <tr>\n",
              "      <th>juliana</th>\n",
              "      <td>0</td>\n",
              "      <td>1</td>\n",
              "      <td>1</td>\n",
              "      <td>0</td>\n",
              "      <td>0</td>\n",
              "      <td>1</td>\n",
              "      <td>0</td>\n",
              "    </tr>\n",
              "    <tr>\n",
              "      <th>tulio</th>\n",
              "      <td>1</td>\n",
              "      <td>0</td>\n",
              "      <td>1</td>\n",
              "      <td>0</td>\n",
              "      <td>0</td>\n",
              "      <td>0</td>\n",
              "      <td>1</td>\n",
              "    </tr>\n",
              "    <tr>\n",
              "      <th>duda</th>\n",
              "      <td>0</td>\n",
              "      <td>1</td>\n",
              "      <td>1</td>\n",
              "      <td>0</td>\n",
              "      <td>0</td>\n",
              "      <td>0</td>\n",
              "      <td>1</td>\n",
              "    </tr>\n",
              "  </tbody>\n",
              "</table>\n",
              "</div>"
            ],
            "text/plain": [
              "           sex_1  sex_2  gender orientation_1  ...  genero_1  genero_2  genero_3\n",
              "nilberth       1      0                     1  ...         1         0         0\n",
              "guilherme      1      0                     1  ...         1         0         0\n",
              "bernardo       1      0                     0  ...         0         1         0\n",
              "fernando       1      0                     1  ...         0         1         0\n",
              "laura          0      1                     0  ...         0         1         0\n",
              "juliana        0      1                     1  ...         0         1         0\n",
              "tulio          1      0                     1  ...         0         0         1\n",
              "duda           0      1                     1  ...         0         0         1\n",
              "\n",
              "[8 rows x 7 columns]"
            ]
          },
          "metadata": {
            "tags": []
          },
          "execution_count": 30
        }
      ]
    }
  ]
}