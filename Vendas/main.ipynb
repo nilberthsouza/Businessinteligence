{
 "cells": [
  {
   "cell_type": "code",
   "execution_count": 1,
   "metadata": {},
   "outputs": [],
   "source": [
    "import pandas as pd"
   ]
  },
  {
   "cell_type": "code",
   "execution_count": 2,
   "metadata": {},
   "outputs": [],
   "source": [
    "xls = pd.ExcelFile('Vendas.xlsx')\n",
    "dfone = pd.read_excel(xls, 'Vendas')\n",
    "dftwo = pd.read_excel(xls, 'Produtos')\n",
    "dfthre = pd.read_excel(xls, 'Fabricante')\n",
    "dffour = pd.read_excel(xls,'Canal')\n",
    "dffive = pd.read_excel(xls,'Geografia_1')\n",
    "dfsix = pd.read_excel(xls, 'Geografia_2')\n",
    "dfseven = pd.read_excel(xls, 'Geografia_3')\n",
    "dfeig = pd.read_excel(xls, 'Promocao')\n",
    "\n"
   ]
  },
  {
   "cell_type": "code",
   "execution_count": 3,
   "metadata": {},
   "outputs": [],
   "source": [
    "col_names = ['Data','IndicedoMes','IndiceAcumuladonoAno','IndiceAcumUlt12','numeroindiceacumulado']\n"
   ]
  },
  {
   "cell_type": "code",
   "execution_count": 4,
   "metadata": {},
   "outputs": [],
   "source": [
    "ipca = pd.read_csv('ipca.csv',header=None,names=col_names)\n"
   ]
  },
  {
   "cell_type": "code",
   "execution_count": 5,
   "metadata": {},
   "outputs": [],
   "source": [
    "ipca = ipca.drop('IndiceAcumuladonoAno',axis=1)\n",
    "ipca = ipca.drop('numeroindiceacumulado',axis=1)\n"
   ]
  },
  {
   "cell_type": "code",
   "execution_count": 6,
   "metadata": {},
   "outputs": [],
   "source": [
    "\n",
    "ipca.Data = ipca.Data.map(lambda a: a.replace('/','-'))"
   ]
  },
  {
   "cell_type": "code",
   "execution_count": 7,
   "metadata": {},
   "outputs": [],
   "source": [
    "month = ['Jan','Fev','Mar','Abr','Mai','Jun','Jul','Ago','Set','Out',     'Nov','Dez']\n",
    "for i in range(len(month)):\n",
    "    ipca.Data = ipca.Data.map(lambda mon: mon.replace(str(month[i]),str('1-'+str(i+1))))\n",
    "    i+=1\n",
    "\n"
   ]
  },
  {
   "cell_type": "code",
   "execution_count": 10,
   "metadata": {},
   "outputs": [],
   "source": [
    "ipca.Data = pd.to_datetime(ipca['Data'],format='%d-%m-%Y',errors='coerce')"
   ]
  },
  {
   "cell_type": "code",
   "execution_count": 11,
   "metadata": {},
   "outputs": [],
   "source": [
    "def get_year(dt):\n",
    "    return dt.year"
   ]
  },
  {
   "cell_type": "code",
   "execution_count": 12,
   "metadata": {},
   "outputs": [],
   "source": [
    "ipca['Year'] = ipca['Data'].map(get_year)"
   ]
  },
  {
   "cell_type": "code",
   "execution_count": 17,
   "metadata": {},
   "outputs": [],
   "source": [
    "ipcadata = ipca[ipca['Year'] < 2011].index\n",
    "ipca.drop(ipcadata, inplace=True)\n",
    "ipcadata2 = ipca[ipca['Year'] > 2013].index\n",
    "ipca.drop(ipcadata2, inplace=True)"
   ]
  },
  {
   "cell_type": "code",
   "execution_count": 15,
   "metadata": {},
   "outputs": [
    {
     "name": "stdout",
     "output_type": "stream",
     "text": [
      "         Data IndicedoMes  IndiceAcumUlt12    Year\n",
      "71 2013-12-01        0.92           5.9108  2013.0\n",
      "72 2013-11-01        0.54           5.7744  2013.0\n",
      "73 2013-10-01        0.57           5.8375  2013.0\n",
      "74 2013-09-01        0.35           5.8586  2013.0\n",
      "75 2013-08-01        0.24           6.0906  2013.0\n",
      "         Data IndicedoMes  IndiceAcumUlt12    Year\n",
      "92 2012-03-01        0.21           5.2399  2012.0\n",
      "          Data IndicedoMes  IndiceAcumUlt12    Year\n",
      "105 2011-02-01         0.8           6.0142  2011.0\n",
      "106 2011-01-01        0.83           5.9932  2011.0\n",
      "163        NaT        0.21           4.6332     NaN\n",
      "175        NaT        0.87           8.0724     NaN\n",
      "187        NaT        0.37        5259.0000     NaN\n"
     ]
    }
   ],
   "source": [
    "print(ipca.head())\n",
    "print(ipca.sample())\n",
    "print(ipca.tail())"
   ]
  },
  {
   "cell_type": "code",
   "execution_count": null,
   "metadata": {},
   "outputs": [],
   "source": []
  }
 ],
 "metadata": {
  "kernelspec": {
   "display_name": "Python 3",
   "language": "python",
   "name": "python3"
  },
  "language_info": {
   "codemirror_mode": {
    "name": "ipython",
    "version": 3
   },
   "file_extension": ".py",
   "mimetype": "text/x-python",
   "name": "python",
   "nbconvert_exporter": "python",
   "pygments_lexer": "ipython3",
   "version": "3.7.4"
  }
 },
 "nbformat": 4,
 "nbformat_minor": 2
}
